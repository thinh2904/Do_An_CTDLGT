{
  "nbformat": 4,
  "nbformat_minor": 0,
  "metadata": {
    "colab": {
      "name": "BT14_SapXepChon.ipynb",
      "provenance": []
    },
    "kernelspec": {
      "name": "python3",
      "display_name": "Python 3"
    },
    "language_info": {
      "name": "python"
    }
  },
  "cells": [
    {
      "cell_type": "code",
      "metadata": {
        "colab": {
          "base_uri": "https://localhost:8080/"
        },
        "id": "lyV3dR5n-Con",
        "outputId": "ef2e8c36-a707-4a29-9f8b-79490ac32eab"
      },
      "source": [
        "def selection_sort(nums):\n",
        "    # This value of i corresponds to how many values were sorted\n",
        "    for i in range(len(nums)):\n",
        "        # We assume that the first item of the unsorted segment is the smallest\n",
        "        lowest_value_index = i\n",
        "        # This loop iterates over the unsorted items\n",
        "        for j in range(i + 1, len(nums)):\n",
        "            if nums[j] < nums[lowest_value_index]:\n",
        "                lowest_value_index = j\n",
        "        # Swap values of the lowest unsorted element with the first unsorted\n",
        "        # element\n",
        "        nums[i], nums[lowest_value_index] = nums[lowest_value_index], nums[i]\n",
        "\n",
        "\n",
        "# Verify it works\n",
        "random_list_of_nums = [12, 8, 3, 20, 11]\n",
        "selection_sort(random_list_of_nums)\n",
        "print(random_list_of_nums)  "
      ],
      "execution_count": 8,
      "outputs": [
        {
          "output_type": "stream",
          "text": [
            "[3, 8, 11, 12, 20]\n"
          ],
          "name": "stdout"
        }
      ]
    }
  ]
}