{
  "nbformat": 4,
  "nbformat_minor": 0,
  "metadata": {
    "colab": {
      "name": "BT03_TinhGiaiThua1So.ipynb",
      "provenance": []
    },
    "kernelspec": {
      "name": "python3",
      "display_name": "Python 3"
    },
    "language_info": {
      "name": "python"
    }
  },
  "cells": [
    {
      "cell_type": "code",
      "metadata": {
        "colab": {
          "base_uri": "https://localhost:8080/"
        },
        "id": "lyV3dR5n-Con",
        "outputId": "5f4a86e6-09f0-4a47-c768-b7631b2cf530"
      },
      "source": [
        "n = int(input('Nhap n ='))\n",
        "\n",
        "\n",
        "def giai_thua(n):\n",
        "    if n == 0:\n",
        "        return 1\n",
        "    return n * giai_thua(n - 1)\n",
        "\n",
        "\n",
        "print(giai_thua(n))"
      ],
      "execution_count": 3,
      "outputs": [
        {
          "output_type": "stream",
          "text": [
            "Nhap n =5\n",
            "120\n"
          ],
          "name": "stdout"
        }
      ]
    }
  ]
}