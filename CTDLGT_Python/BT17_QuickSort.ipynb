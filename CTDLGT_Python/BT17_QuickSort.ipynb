{
  "nbformat": 4,
  "nbformat_minor": 0,
  "metadata": {
    "colab": {
      "name": "BT17_QuickSort.ipynb",
      "provenance": []
    },
    "kernelspec": {
      "name": "python3",
      "display_name": "Python 3"
    },
    "language_info": {
      "name": "python"
    }
  },
  "cells": [
    {
      "cell_type": "code",
      "metadata": {
        "colab": {
          "base_uri": "https://localhost:8080/"
        },
        "id": "hPx2gP5Wk1PW",
        "outputId": "9ef62063-93b4-4945-cef5-56f44d5a2d17"
      },
      "source": [
        "def partition(nums, low, high):\n",
        "    pivot = nums[(low + high) // 2]\n",
        "    i = low - 1\n",
        "    j = high + 1\n",
        "    while True:\n",
        "        i += 1\n",
        "        while nums[i] < pivot:\n",
        "            i += 1\n",
        "        j -= 1\n",
        "        while nums[j] > pivot:\n",
        "            j -= 1\n",
        "        if i >= j:\n",
        "            return j\n",
        "        #Nếu một phần tử tại i (ở bên trái của trục) lớn hơn phần tử tại j (ở bên phải bên phải của trục), thì hoán đổi chúng\n",
        "        nums[i], nums[j] = nums[j], nums[i]\n",
        "\n",
        "def quick_sort(nums):\n",
        "    # Tạo một hàm trợ giúp sẽ được gọi một cách đệ quy\n",
        "    def _quick_sort(items, low, high):\n",
        "        if low < high:\n",
        "            split_index = partition(items, low, high)\n",
        "            _quick_sort(items, low, split_index)\n",
        "            _quick_sort(items, split_index + 1, high)\n",
        "\n",
        "    _quick_sort(nums, 0, len(nums) - 1)\n",
        "\n",
        "\n",
        "random_list_of_nums = [22, 5, 1, 18, 99]\n",
        "quick_sort(random_list_of_nums)\n",
        "print(random_list_of_nums)"
      ],
      "execution_count": 23,
      "outputs": [
        {
          "output_type": "stream",
          "text": [
            "[1, 5, 18, 22, 99]\n"
          ],
          "name": "stdout"
        }
      ]
    }
  ]
}