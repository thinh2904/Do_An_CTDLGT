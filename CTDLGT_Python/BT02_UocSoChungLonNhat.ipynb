{
  "nbformat": 4,
  "nbformat_minor": 0,
  "metadata": {
    "colab": {
      "name": "BT02_UocSoChungLonNhat.ipynb",
      "provenance": []
    },
    "kernelspec": {
      "name": "python3",
      "display_name": "Python 3"
    },
    "language_info": {
      "name": "python"
    }
  },
  "cells": [
    {
      "cell_type": "code",
      "metadata": {
        "colab": {
          "base_uri": "https://localhost:8080/"
        },
        "id": "lyV3dR5n-Con",
        "outputId": "b225adfa-5040-4bfe-d2a6-501a14a80b32"
      },
      "source": [
        "a = int(input('a = '))\n",
        "b = int(input('b = '))\n",
        "\n",
        "\n",
        "def uscln(a, b):\n",
        "    if (b==0):\n",
        "        return a\n",
        "    return uscln(b, a%b)\n",
        "\n",
        "\n",
        "print('USCLN cua a va b la: ', uscln(a, b))"
      ],
      "execution_count": 2,
      "outputs": [
        {
          "output_type": "stream",
          "text": [
            "a = 12\n",
            "b = 3\n",
            "USCLN cua a va b la:  3\n"
          ],
          "name": "stdout"
        }
      ]
    }
  ]
}