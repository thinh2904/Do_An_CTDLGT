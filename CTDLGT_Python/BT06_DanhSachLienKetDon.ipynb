{
  "nbformat": 4,
  "nbformat_minor": 0,
  "metadata": {
    "colab": {
      "name": "BT06_DanhSachLienKetDon.ipynb",
      "provenance": []
    },
    "kernelspec": {
      "name": "python3",
      "display_name": "Python 3"
    },
    "language_info": {
      "name": "python"
    }
  },
  "cells": [
    {
      "cell_type": "code",
      "metadata": {
        "colab": {
          "base_uri": "https://localhost:8080/"
        },
        "id": "lyV3dR5n-Con",
        "outputId": "78ba5efd-9131-44a6-ecf1-816850e1d099"
      },
      "source": [
        "class Node(object):\n",
        "    def __init__(self):\n",
        "        self.data = None # contains the data\n",
        "        self.next = None # contains the reference to the next node\n",
        "\n",
        "\n",
        "class LinkedList:\n",
        "    def __init__(self):\n",
        "        self.cur_node = None\n",
        "\n",
        "    def add_node(self, data):\n",
        "        new_node = Node() # create a new node\n",
        "        new_node.data = data\n",
        "        new_node.next = self.cur_node # link the new node to the 'previous' node.\n",
        "        self.cur_node = new_node #  set the current node to the new one.\n",
        "\n",
        "    def list_print(self):\n",
        "        node = self.cur_node # cant point to ll!\n",
        "        while node:\n",
        "            print (node.data)\n",
        "            node = node.next\n",
        "ll = LinkedList()\n",
        "ll.add_node(15)\n",
        "ll.add_node(25)\n",
        "ll.add_node(3)\n",
        "\n",
        "ll.list_print()"
      ],
      "execution_count": 8,
      "outputs": [
        {
          "output_type": "stream",
          "text": [
            "3\n",
            "25\n",
            "15\n"
          ],
          "name": "stdout"
        }
      ]
    }
  ]
}