{
  "nbformat": 4,
  "nbformat_minor": 0,
  "metadata": {
    "colab": {
      "name": "BT15_SapXepChen.ipynb",
      "provenance": []
    },
    "kernelspec": {
      "name": "python3",
      "display_name": "Python 3"
    },
    "language_info": {
      "name": "python"
    }
  },
  "cells": [
    {
      "cell_type": "code",
      "metadata": {
        "colab": {
          "base_uri": "https://localhost:8080/"
        },
        "id": "lyV3dR5n-Con",
        "outputId": "02c78ffa-e808-4bbe-fde5-ec6ce17f0941"
      },
      "source": [
        "def insertion_sort(InputList):\n",
        "    for i in range(1, len(InputList)):\n",
        "        j = i - 1\n",
        "        nxt_element = InputList[i]\n",
        "        # Compare the current element with next one\n",
        "\n",
        "        while (InputList[j] > nxt_element) and (j >= 0):\n",
        "            InputList[j + 1] = InputList[j]\n",
        "            j = j - 1\n",
        "        InputList[j + 1] = nxt_element\n",
        "\n",
        "\n",
        "list = [19, 2, 31, 45, 30, 11, 121, 27]\n",
        "insertion_sort(list)\n",
        "print(list)"
      ],
      "execution_count": 9,
      "outputs": [
        {
          "output_type": "stream",
          "text": [
            "[2, 11, 19, 27, 30, 31, 45, 121]\n"
          ],
          "name": "stdout"
        }
      ]
    }
  ]
}