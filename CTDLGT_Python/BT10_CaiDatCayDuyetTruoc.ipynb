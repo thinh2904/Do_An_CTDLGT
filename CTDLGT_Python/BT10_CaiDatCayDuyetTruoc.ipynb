{
  "nbformat": 4,
  "nbformat_minor": 0,
  "metadata": {
    "colab": {
      "name": "BT10_CaiDatCayDuyetTruoc.ipynb",
      "provenance": []
    },
    "kernelspec": {
      "name": "python3",
      "display_name": "Python 3"
    },
    "language_info": {
      "name": "python"
    }
  },
  "cells": [
    {
      "cell_type": "code",
      "metadata": {
        "colab": {
          "base_uri": "https://localhost:8080/"
        },
        "id": "lyV3dR5n-Con",
        "outputId": "7ca5675d-cf57-4f09-c971-4d41615b1b7c"
      },
      "source": [
        "class Node:\n",
        "\n",
        "    def __init__(self, data):\n",
        "\n",
        "        self.left = None\n",
        "        self.right = None\n",
        "        self.data = data\n",
        "# Insert Node\n",
        "    def insert(self, data):\n",
        "\n",
        "        if self.data:\n",
        "            if data < self.data:\n",
        "                if self.left is None:\n",
        "                    self.left = Node(data)\n",
        "                else:\n",
        "                    self.left.insert(data)\n",
        "            elif data > self.data:\n",
        "                if self.right is None:\n",
        "                    self.right = Node(data)\n",
        "                else:\n",
        "                    self.right.insert(data)\n",
        "        else:\n",
        "            self.data = data\n",
        "\n",
        "# Print the Tree\n",
        "    def PrintTree(self):\n",
        "        if self.left:\n",
        "            self.left.PrintTree()\n",
        "        print( self.data),\n",
        "        if self.right:\n",
        "            self.right.PrintTree()\n",
        "\n",
        "# Inorder traversal\n",
        "# Left -> Root -> Right\n",
        "    def inorderTraversal(self, root):\n",
        "        res = []\n",
        "        if root:\n",
        "            res = self.inorderTraversal(root.left)\n",
        "            res.append(root.data)\n",
        "            res = res + self.inorderTraversal(root.right)\n",
        "        return res\n",
        "\n",
        "root = Node(27)\n",
        "root.insert(14)\n",
        "root.insert(35)\n",
        "root.insert(10)\n",
        "root.insert(19)\n",
        "root.insert(31)\n",
        "root.insert(42)\n",
        "print(root.inorderTraversal(root))"
      ],
      "execution_count": 3,
      "outputs": [
        {
          "output_type": "stream",
          "text": [
            "[10, 14, 19, 27, 31, 35, 42]\n"
          ],
          "name": "stdout"
        }
      ]
    }
  ]
}