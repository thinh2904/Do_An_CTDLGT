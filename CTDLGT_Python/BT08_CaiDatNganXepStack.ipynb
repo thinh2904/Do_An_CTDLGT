{
  "nbformat": 4,
  "nbformat_minor": 0,
  "metadata": {
    "colab": {
      "name": "BT08_CaiDatNganXepStack.ipynb",
      "provenance": []
    },
    "kernelspec": {
      "name": "python3",
      "display_name": "Python 3"
    },
    "language_info": {
      "name": "python"
    }
  },
  "cells": [
    {
      "cell_type": "code",
      "metadata": {
        "colab": {
          "base_uri": "https://localhost:8080/"
        },
        "id": "lyV3dR5n-Con",
        "outputId": "a6ac7f9d-c0f4-4b1e-a808-149dc2661ce2"
      },
      "source": [
        "\n",
        "class Stack:\n",
        "\n",
        "    def __init__(self):\n",
        "        self.stack = []\n",
        "\n",
        "    def add(self, dataval):\n",
        "# Sử dụng phương pháp nối thêm danh sách để thêm phần tử\n",
        "        if dataval not in self.stack:\n",
        "            self.stack.append(dataval)\n",
        "            return True\n",
        "        else:\n",
        "            return False\n",
        "# Sử dụng chế độ xem trước để nhìn vào đầu ngăn xếp\n",
        "\n",
        "    def peek(self):\n",
        "\t    return self.stack[-1]\n",
        "\n",
        "AStack = Stack()\n",
        "AStack.add(\"Mon\")\n",
        "AStack.add(\"Tue\")\n",
        "AStack.peek()\n",
        "print(AStack.peek())\n",
        "AStack.add(\"Wed\")\n",
        "AStack.add(\"Thu\")\n",
        "print(AStack.peek())"
      ],
      "execution_count": 1,
      "outputs": [
        {
          "output_type": "stream",
          "text": [
            "Tue\n",
            "Thu\n"
          ],
          "name": "stdout"
        }
      ]
    }
  ]
}