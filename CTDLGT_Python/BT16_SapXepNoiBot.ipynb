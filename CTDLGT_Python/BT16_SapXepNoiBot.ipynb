{
  "nbformat": 4,
  "nbformat_minor": 0,
  "metadata": {
    "colab": {
      "name": "BT16_SapXepNoiBot.ipynb",
      "provenance": []
    },
    "kernelspec": {
      "name": "python3",
      "display_name": "Python 3"
    },
    "language_info": {
      "name": "python"
    }
  },
  "cells": [
    {
      "cell_type": "code",
      "metadata": {
        "colab": {
          "base_uri": "https://localhost:8080/"
        },
        "id": "lyV3dR5n-Con",
        "outputId": "ddfb4258-6c35-4c08-b86b-e1587fd6ed4e"
      },
      "source": [
        "def bubble_sort(nums):\n",
        "    # We set swapped to True so the loop looks runs at least once\n",
        "    swapped = True\n",
        "    while swapped:\n",
        "        swapped = False\n",
        "        for i in range(len(nums) - 1):\n",
        "            if nums[i] > nums[i + 1]:\n",
        "                # Swap the elements\n",
        "                nums[i], nums[i + 1] = nums[i + 1], nums[i]\n",
        "                # Set the flag to True so we'll loop again\n",
        "                swapped = True\n",
        "\n",
        "\n",
        "# Verify it works\n",
        "random_list_of_nums = [5, 2, 1, 8, 4]\n",
        "bubble_sort(random_list_of_nums)\n",
        "print(random_list_of_nums)"
      ],
      "execution_count": 10,
      "outputs": [
        {
          "output_type": "stream",
          "text": [
            "[1, 2, 4, 5, 8]\n"
          ],
          "name": "stdout"
        }
      ]
    }
  ]
}