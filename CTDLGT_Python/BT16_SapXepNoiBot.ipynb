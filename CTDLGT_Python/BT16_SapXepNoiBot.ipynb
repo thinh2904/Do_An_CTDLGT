{
  "nbformat": 4,
  "nbformat_minor": 0,
  "metadata": {
    "colab": {
      "name": "BT16_SapXepNoiBot.ipynb",
      "provenance": []
    },
    "kernelspec": {
      "name": "python3",
      "display_name": "Python 3"
    },
    "language_info": {
      "name": "python"
    }
  },
  "cells": [
    {
      "cell_type": "code",
      "metadata": {
        "colab": {
          "base_uri": "https://localhost:8080/"
        },
        "id": "hPx2gP5Wk1PW",
        "outputId": "b05f61de-6917-4a0b-a118-b93949281fa9"
      },
      "source": [
        "def bubble_sort(nums):\n",
        "    # Đặt swapped là True để vòng lặp chạy ít nhất một lần\n",
        "    swapped = True\n",
        "    while swapped:\n",
        "        swapped = False\n",
        "        for i in range(len(nums) - 1):\n",
        "            if nums[i] > nums[i + 1]:\n",
        "                # Hoán đổi các phần tử\n",
        "                nums[i], nums[i + 1] = nums[i + 1], nums[i]\n",
        "                # Đặt swapped là True để có thể lặp lại\n",
        "                swapped = True\n",
        "\n",
        "\n",
        "random_list_of_nums = [5, 2, 1, 8, 4]\n",
        "bubble_sort(random_list_of_nums)\n",
        "print(random_list_of_nums)"
      ],
      "execution_count": 21,
      "outputs": [
        {
          "output_type": "stream",
          "text": [
            "[1, 2, 4, 5, 8]\n"
          ],
          "name": "stdout"
        }
      ]
    }
  ]
}