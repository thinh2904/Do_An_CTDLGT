{
  "nbformat": 4,
  "nbformat_minor": 0,
  "metadata": {
    "colab": {
      "name": "BT19_MergeSort.ipynb",
      "provenance": []
    },
    "kernelspec": {
      "name": "python3",
      "display_name": "Python 3"
    },
    "language_info": {
      "name": "python"
    }
  },
  "cells": [
    {
      "cell_type": "code",
      "metadata": {
        "colab": {
          "base_uri": "https://localhost:8080/"
        },
        "id": "lyV3dR5n-Con",
        "outputId": "53245a94-fcbf-40c2-9ef7-e7cc0d0a8abb"
      },
      "source": [
        "def merge(left_list, right_list):\n",
        "    sorted_list = []\n",
        "    left_list_index = right_list_index = 0\n",
        "\n",
        "    # We use the list lengths often, so its handy to make variables\n",
        "    left_list_length, right_list_length = len(left_list), len(right_list)\n",
        "\n",
        "    for _ in range(left_list_length + right_list_length):\n",
        "        if left_list_index < left_list_length and right_list_index < right_list_length:\n",
        "            # We check which value from the start of each list is smaller\n",
        "            # If the item at the beginning of the left list is smaller, add it\n",
        "            # to the sorted list\n",
        "            if left_list[left_list_index] <= right_list[right_list_index]:\n",
        "                sorted_list.append(left_list[left_list_index])\n",
        "                left_list_index += 1\n",
        "            # If the item at the beginning of the right list is smaller, add it\n",
        "            # to the sorted list\n",
        "            else:\n",
        "                sorted_list.append(right_list[right_list_index])\n",
        "                right_list_index += 1\n",
        "\n",
        "        # If we've reached the end of the of the left list, add the elements\n",
        "        # from the right list\n",
        "        elif left_list_index == left_list_length:\n",
        "            sorted_list.append(right_list[right_list_index])\n",
        "            right_list_index += 1\n",
        "        # If we've reached the end of the of the right list, add the elements\n",
        "        # from the left list\n",
        "        elif right_list_index == right_list_length:\n",
        "            sorted_list.append(left_list[left_list_index])\n",
        "            left_list_index += 1\n",
        "\n",
        "    return sorted_list\n",
        "\n",
        "\n",
        "def merge_sort(nums):\n",
        "    # If the list is a single element, return it\n",
        "    if len(nums) <= 1:\n",
        "        return nums\n",
        "\n",
        "    # Use floor division to get midpoint, indices must be integers\n",
        "    mid = len(nums) // 2\n",
        "\n",
        "    # Sort and merge each half\n",
        "    left_list = merge_sort(nums[:mid])\n",
        "    right_list = merge_sort(nums[mid:])\n",
        "\n",
        "    # Merge the sorted lists into a new one\n",
        "    return merge(left_list, right_list)\n",
        "\n",
        "\n",
        "# Verify it works\n",
        "random_list_of_nums = [120, 45, 68, 250, 176]\n",
        "random_list_of_nums = merge_sort(random_list_of_nums)\n",
        "print(random_list_of_nums)"
      ],
      "execution_count": 14,
      "outputs": [
        {
          "output_type": "stream",
          "text": [
            "[45, 68, 120, 176, 250]\n"
          ],
          "name": "stdout"
        }
      ]
    }
  ]
}