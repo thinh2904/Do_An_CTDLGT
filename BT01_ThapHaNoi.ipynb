{
  "nbformat": 4,
  "nbformat_minor": 0,
  "metadata": {
    "colab": {
      "name": "BT01_ThapHaNoi.ipynb",
      "provenance": []
    },
    "kernelspec": {
      "name": "python3",
      "display_name": "Python 3"
    },
    "language_info": {
      "name": "python"
    }
  },
  "cells": [
    {
      "cell_type": "code",
      "metadata": {
        "colab": {
          "base_uri": "https://localhost:8080/"
        },
        "id": "lyV3dR5n-Con",
        "outputId": "970c4b43-7a46-4a5b-892a-bfac63cef41c"
      },
      "source": [
        "n = int(input('Số tầng: '))\n",
        "\n",
        "\n",
        "def move(n, coc1, coc2, coc3):\n",
        "    if n == 1:\n",
        "        print(\"Chuyen tu\", coc1, \"sang\", coc3)\n",
        "    else:\n",
        "        move(n-1, coc1, coc3, coc2)\n",
        "        print(\"Chuyen tu\", coc1, \"sang\", coc3)\n",
        "        move(n-1, coc2, coc1, coc3)\n",
        "\n",
        "\n",
        "move(n,'A','B','C')"
      ],
      "execution_count": 1,
      "outputs": [
        {
          "output_type": "stream",
          "text": [
            "Số tầng: 4\n",
            "Chuyen tu A sang B\n",
            "Chuyen tu A sang C\n",
            "Chuyen tu B sang C\n",
            "Chuyen tu A sang B\n",
            "Chuyen tu C sang A\n",
            "Chuyen tu C sang B\n",
            "Chuyen tu A sang B\n",
            "Chuyen tu A sang C\n",
            "Chuyen tu B sang C\n",
            "Chuyen tu B sang A\n",
            "Chuyen tu C sang A\n",
            "Chuyen tu B sang C\n",
            "Chuyen tu A sang B\n",
            "Chuyen tu A sang C\n",
            "Chuyen tu B sang C\n"
          ],
          "name": "stdout"
        }
      ]
    }
  ]
}